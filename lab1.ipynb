{
 "cells": [
  {
   "cell_type": "code",
   "execution_count": 2,
   "id": "3e32b08a-7ab7-4bc2-ba6f-77849d2024cd",
   "metadata": {},
   "outputs": [
    {
     "name": "stdout",
     "output_type": "stream",
     "text": [
      "Hola Mundo\n"
     ]
    }
   ],
   "source": [
    "print(\"Hola Mundo\")"
   ]
  },
  {
   "cell_type": "code",
   "execution_count": 3,
   "id": "5d97936f-88b6-4ba5-8a0e-130f31455b08",
   "metadata": {},
   "outputs": [
    {
     "name": "stdout",
     "output_type": "stream",
     "text": [
      "El 5 es mayor\n"
     ]
    }
   ],
   "source": [
    "if 5 > 2 : \n",
    "    print (\"El 5 es mayor\")"
   ]
  },
  {
   "cell_type": "code",
   "execution_count": null,
   "id": "6d3efa15-f8b1-4c89-ad45-ba9225091aef",
   "metadata": {},
   "outputs": [],
   "source": [
    "# Este es un comentario"
   ]
  },
  {
   "cell_type": "code",
   "execution_count": 5,
   "id": "a6bb1ac3-1efd-40ce-a772-2bf4db31293e",
   "metadata": {},
   "outputs": [
    {
     "name": "stdout",
     "output_type": "stream",
     "text": [
      "Comentario de más de una linea\n"
     ]
    }
   ],
   "source": [
    "\"\"\"\n",
    "Este es un comentario largo\n",
    "\"\"\"\n",
    "print (\"Comentario de más de una linea\")"
   ]
  },
  {
   "cell_type": "code",
   "execution_count": 6,
   "id": "689fb062-0822-4495-bdb6-60fab64b0bb3",
   "metadata": {},
   "outputs": [
    {
     "name": "stdout",
     "output_type": "stream",
     "text": [
      "Ana\n",
      "10\n"
     ]
    }
   ],
   "source": [
    "# Declaramos variables\n",
    "ana = \"Ana\"\n",
    "numero = 10\n",
    "print(ana)\n",
    "print (numero)"
   ]
  },
  {
   "cell_type": "code",
   "execution_count": 7,
   "id": "0b41ce66-334f-4027-9d46-fde68e7ad2ac",
   "metadata": {},
   "outputs": [
    {
     "name": "stdout",
     "output_type": "stream",
     "text": [
      "<class 'str'>\n"
     ]
    }
   ],
   "source": [
    "print (type(ana))"
   ]
  },
  {
   "cell_type": "code",
   "execution_count": 8,
   "id": "f382fe5e-cb0b-4fdb-8c0f-6efdc8a2c3a3",
   "metadata": {},
   "outputs": [
    {
     "name": "stdout",
     "output_type": "stream",
     "text": [
      "<class 'int'>\n"
     ]
    }
   ],
   "source": [
    "print (type(numero))"
   ]
  },
  {
   "cell_type": "code",
   "execution_count": null,
   "id": "45cbe2c9-e327-4bb3-bb77-769e0464f276",
   "metadata": {},
   "outputs": [],
   "source": [
    "# Nombrado de variables\n",
    "numero1=2\n",
    "nombre_persona \"Alan Mauricio\"\n",
    "HOLA ="
   ]
  }
 ],
 "metadata": {
  "kernelspec": {
   "display_name": "Python 3 (ipykernel)",
   "language": "python",
   "name": "python3"
  },
  "language_info": {
   "codemirror_mode": {
    "name": "ipython",
    "version": 3
   },
   "file_extension": ".py",
   "mimetype": "text/x-python",
   "name": "python",
   "nbconvert_exporter": "python",
   "pygments_lexer": "ipython3",
   "version": "3.13.2"
  }
 },
 "nbformat": 4,
 "nbformat_minor": 5
}
