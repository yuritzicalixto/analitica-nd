{
 "cells": [
  {
   "cell_type": "code",
   "execution_count": 3,
   "id": "82f636d2-dcdf-4214-a3b4-ba798ef4cd73",
   "metadata": {},
   "outputs": [],
   "source": [
    "# Uso de numpy\n",
    "import numpy as np"
   ]
  },
  {
   "cell_type": "code",
   "execution_count": 5,
   "id": "f01b9543-2cdd-41dd-86bc-fa7c6e845ecd",
   "metadata": {},
   "outputs": [],
   "source": [
    "x = np.arange(12)"
   ]
  },
  {
   "cell_type": "code",
   "execution_count": 7,
   "id": "1f4a61f7-162a-48cb-ae06-1e5410fd53b4",
   "metadata": {},
   "outputs": [
    {
     "name": "stdout",
     "output_type": "stream",
     "text": [
      "[ 0  1  2  3  4  5  6  7  8  9 10 11]\n"
     ]
    }
   ],
   "source": [
    "print(x)"
   ]
  },
  {
   "cell_type": "code",
   "execution_count": 9,
   "id": "bb52a335-4515-41eb-aee5-b5ac1cb2104a",
   "metadata": {},
   "outputs": [],
   "source": [
    "x = x.reshape(4,3)"
   ]
  },
  {
   "cell_type": "code",
   "execution_count": 13,
   "id": "96eef2f4-fadc-41a0-9031-75adaed3fdbc",
   "metadata": {},
   "outputs": [
    {
     "name": "stdout",
     "output_type": "stream",
     "text": [
      "[[ 0  1  2]\n",
      " [ 3  4  5]\n",
      " [ 6  7  8]\n",
      " [ 9 10 11]]\n"
     ]
    }
   ],
   "source": [
    "print(x)"
   ]
  },
  {
   "cell_type": "code",
   "execution_count": 17,
   "id": "d560048f-3512-4caf-a291-d83ddaacebb0",
   "metadata": {},
   "outputs": [],
   "source": [
    "z= np.identity(5)"
   ]
  },
  {
   "cell_type": "code",
   "execution_count": 19,
   "id": "2f91ac3e-8fd2-427a-8216-31cd8f3eb353",
   "metadata": {},
   "outputs": [
    {
     "name": "stdout",
     "output_type": "stream",
     "text": [
      "[[1. 0. 0. 0. 0.]\n",
      " [0. 1. 0. 0. 0.]\n",
      " [0. 0. 1. 0. 0.]\n",
      " [0. 0. 0. 1. 0.]\n",
      " [0. 0. 0. 0. 1.]]\n"
     ]
    }
   ],
   "source": [
    "print(z)"
   ]
  },
  {
   "cell_type": "code",
   "execution_count": 21,
   "id": "b9ec716b-c9de-4cf2-a28f-9d1e803bf6e2",
   "metadata": {},
   "outputs": [],
   "source": [
    "y = np.array([[10,20,30], [40,50,60], [70,80,90]])"
   ]
  },
  {
   "cell_type": "code",
   "execution_count": 23,
   "id": "01724a31-b216-40b3-bc45-6f3e54a61612",
   "metadata": {},
   "outputs": [
    {
     "name": "stdout",
     "output_type": "stream",
     "text": [
      "[[10 20 30]\n",
      " [40 50 60]\n",
      " [70 80 90]]\n"
     ]
    }
   ],
   "source": [
    "print(y)"
   ]
  },
  {
   "cell_type": "code",
   "execution_count": 25,
   "id": "bed717d3-d137-40c6-8e42-c9b41df81daf",
   "metadata": {},
   "outputs": [],
   "source": [
    "import pandas as pd"
   ]
  },
  {
   "cell_type": "code",
   "execution_count": 31,
   "id": "5191dc63-19b7-4212-a121-dda51b55bae6",
   "metadata": {},
   "outputs": [],
   "source": [
    "data=pd.read_csv('tiburon.csv', index_col=0)"
   ]
  },
  {
   "cell_type": "code",
   "execution_count": 33,
   "id": "1d330084-c6e4-490b-b295-438964124eec",
   "metadata": {},
   "outputs": [
    {
     "name": "stdout",
     "output_type": "stream",
     "text": [
      "      year        type             country        activity  age  \\\n",
      "0     2018     Boating                 usa        Paddling   57   \n",
      "1     2018  Unprovoked              brazil        Swimming   18   \n",
      "2     2018  Unprovoked                 usa         Walking   15   \n",
      "3     2018    Provoked           australia  Feeding sharks   32   \n",
      "4     2018     Invalid             england         Fishing   21   \n",
      "...    ...         ...                 ...             ...  ...   \n",
      "1667     0  Unprovoked           australia          Diving  NaN   \n",
      "1668     0  Unprovoked           australia    Pearl diving  NaN   \n",
      "1669     0  Unprovoked                 usa        Swimming  NaN   \n",
      "1670     0  Unprovoked              panama             NaN  NaN   \n",
      "1671     0  Unprovoked  ceylon (sri lanka)        Swimming   15   \n",
      "\n",
      "               species month fatal gender  \n",
      "0          White shark   Jun     N      F  \n",
      "1          Tiger shark   Jun     Y      M  \n",
      "2       Bull shark, 6'   May     N      M  \n",
      "3      Grey reef shark   May     N      M  \n",
      "4     Invalid incident   May     N      M  \n",
      "...                ...   ...   ...    ...  \n",
      "1667               NaN   NaN     Y      M  \n",
      "1668               NaN   NaN     Y      M  \n",
      "1669               NaN   NaN     Y      M  \n",
      "1670               NaN   NaN     Y      M  \n",
      "1671               NaN   NaN     Y      M  \n",
      "\n",
      "[1669 rows x 9 columns]\n"
     ]
    }
   ],
   "source": [
    "print(data)"
   ]
  },
  {
   "cell_type": "code",
   "execution_count": 35,
   "id": "a40a3daf-d322-478d-a69f-3cb2cd1e7741",
   "metadata": {},
   "outputs": [
    {
     "data": {
      "text/html": [
       "<div>\n",
       "<style scoped>\n",
       "    .dataframe tbody tr th:only-of-type {\n",
       "        vertical-align: middle;\n",
       "    }\n",
       "\n",
       "    .dataframe tbody tr th {\n",
       "        vertical-align: top;\n",
       "    }\n",
       "\n",
       "    .dataframe thead th {\n",
       "        text-align: right;\n",
       "    }\n",
       "</style>\n",
       "<table border=\"1\" class=\"dataframe\">\n",
       "  <thead>\n",
       "    <tr style=\"text-align: right;\">\n",
       "      <th></th>\n",
       "      <th>year</th>\n",
       "      <th>type</th>\n",
       "      <th>country</th>\n",
       "      <th>activity</th>\n",
       "      <th>age</th>\n",
       "      <th>species</th>\n",
       "      <th>month</th>\n",
       "      <th>fatal</th>\n",
       "      <th>gender</th>\n",
       "    </tr>\n",
       "  </thead>\n",
       "  <tbody>\n",
       "    <tr>\n",
       "      <th>0</th>\n",
       "      <td>2018</td>\n",
       "      <td>Boating</td>\n",
       "      <td>usa</td>\n",
       "      <td>Paddling</td>\n",
       "      <td>57</td>\n",
       "      <td>White shark</td>\n",
       "      <td>Jun</td>\n",
       "      <td>N</td>\n",
       "      <td>F</td>\n",
       "    </tr>\n",
       "    <tr>\n",
       "      <th>1</th>\n",
       "      <td>2018</td>\n",
       "      <td>Unprovoked</td>\n",
       "      <td>brazil</td>\n",
       "      <td>Swimming</td>\n",
       "      <td>18</td>\n",
       "      <td>Tiger shark</td>\n",
       "      <td>Jun</td>\n",
       "      <td>Y</td>\n",
       "      <td>M</td>\n",
       "    </tr>\n",
       "    <tr>\n",
       "      <th>2</th>\n",
       "      <td>2018</td>\n",
       "      <td>Unprovoked</td>\n",
       "      <td>usa</td>\n",
       "      <td>Walking</td>\n",
       "      <td>15</td>\n",
       "      <td>Bull shark, 6'</td>\n",
       "      <td>May</td>\n",
       "      <td>N</td>\n",
       "      <td>M</td>\n",
       "    </tr>\n",
       "    <tr>\n",
       "      <th>3</th>\n",
       "      <td>2018</td>\n",
       "      <td>Provoked</td>\n",
       "      <td>australia</td>\n",
       "      <td>Feeding sharks</td>\n",
       "      <td>32</td>\n",
       "      <td>Grey reef shark</td>\n",
       "      <td>May</td>\n",
       "      <td>N</td>\n",
       "      <td>M</td>\n",
       "    </tr>\n",
       "    <tr>\n",
       "      <th>4</th>\n",
       "      <td>2018</td>\n",
       "      <td>Invalid</td>\n",
       "      <td>england</td>\n",
       "      <td>Fishing</td>\n",
       "      <td>21</td>\n",
       "      <td>Invalid incident</td>\n",
       "      <td>May</td>\n",
       "      <td>N</td>\n",
       "      <td>M</td>\n",
       "    </tr>\n",
       "  </tbody>\n",
       "</table>\n",
       "</div>"
      ],
      "text/plain": [
       "   year        type    country        activity age           species month  \\\n",
       "0  2018     Boating        usa        Paddling  57       White shark   Jun   \n",
       "1  2018  Unprovoked     brazil        Swimming  18       Tiger shark   Jun   \n",
       "2  2018  Unprovoked        usa         Walking  15    Bull shark, 6'   May   \n",
       "3  2018    Provoked  australia  Feeding sharks  32   Grey reef shark   May   \n",
       "4  2018     Invalid    england         Fishing  21  Invalid incident   May   \n",
       "\n",
       "  fatal gender  \n",
       "0     N      F  \n",
       "1     Y      M  \n",
       "2     N      M  \n",
       "3     N      M  \n",
       "4     N      M  "
      ]
     },
     "execution_count": 35,
     "metadata": {},
     "output_type": "execute_result"
    }
   ],
   "source": [
    "data.head()"
   ]
  },
  {
   "cell_type": "code",
   "execution_count": 37,
   "id": "33073d66-220b-425a-877d-8de48cea9c5e",
   "metadata": {},
   "outputs": [
    {
     "data": {
      "text/html": [
       "<div>\n",
       "<style scoped>\n",
       "    .dataframe tbody tr th:only-of-type {\n",
       "        vertical-align: middle;\n",
       "    }\n",
       "\n",
       "    .dataframe tbody tr th {\n",
       "        vertical-align: top;\n",
       "    }\n",
       "\n",
       "    .dataframe thead th {\n",
       "        text-align: right;\n",
       "    }\n",
       "</style>\n",
       "<table border=\"1\" class=\"dataframe\">\n",
       "  <thead>\n",
       "    <tr style=\"text-align: right;\">\n",
       "      <th></th>\n",
       "      <th>year</th>\n",
       "      <th>type</th>\n",
       "      <th>country</th>\n",
       "      <th>activity</th>\n",
       "      <th>age</th>\n",
       "      <th>species</th>\n",
       "      <th>month</th>\n",
       "      <th>fatal</th>\n",
       "      <th>gender</th>\n",
       "    </tr>\n",
       "  </thead>\n",
       "  <tbody>\n",
       "    <tr>\n",
       "      <th>1667</th>\n",
       "      <td>0</td>\n",
       "      <td>Unprovoked</td>\n",
       "      <td>australia</td>\n",
       "      <td>Diving</td>\n",
       "      <td>NaN</td>\n",
       "      <td>NaN</td>\n",
       "      <td>NaN</td>\n",
       "      <td>Y</td>\n",
       "      <td>M</td>\n",
       "    </tr>\n",
       "    <tr>\n",
       "      <th>1668</th>\n",
       "      <td>0</td>\n",
       "      <td>Unprovoked</td>\n",
       "      <td>australia</td>\n",
       "      <td>Pearl diving</td>\n",
       "      <td>NaN</td>\n",
       "      <td>NaN</td>\n",
       "      <td>NaN</td>\n",
       "      <td>Y</td>\n",
       "      <td>M</td>\n",
       "    </tr>\n",
       "    <tr>\n",
       "      <th>1669</th>\n",
       "      <td>0</td>\n",
       "      <td>Unprovoked</td>\n",
       "      <td>usa</td>\n",
       "      <td>Swimming</td>\n",
       "      <td>NaN</td>\n",
       "      <td>NaN</td>\n",
       "      <td>NaN</td>\n",
       "      <td>Y</td>\n",
       "      <td>M</td>\n",
       "    </tr>\n",
       "    <tr>\n",
       "      <th>1670</th>\n",
       "      <td>0</td>\n",
       "      <td>Unprovoked</td>\n",
       "      <td>panama</td>\n",
       "      <td>NaN</td>\n",
       "      <td>NaN</td>\n",
       "      <td>NaN</td>\n",
       "      <td>NaN</td>\n",
       "      <td>Y</td>\n",
       "      <td>M</td>\n",
       "    </tr>\n",
       "    <tr>\n",
       "      <th>1671</th>\n",
       "      <td>0</td>\n",
       "      <td>Unprovoked</td>\n",
       "      <td>ceylon (sri lanka)</td>\n",
       "      <td>Swimming</td>\n",
       "      <td>15</td>\n",
       "      <td>NaN</td>\n",
       "      <td>NaN</td>\n",
       "      <td>Y</td>\n",
       "      <td>M</td>\n",
       "    </tr>\n",
       "  </tbody>\n",
       "</table>\n",
       "</div>"
      ],
      "text/plain": [
       "      year        type             country      activity  age species month  \\\n",
       "1667     0  Unprovoked           australia        Diving  NaN     NaN   NaN   \n",
       "1668     0  Unprovoked           australia  Pearl diving  NaN     NaN   NaN   \n",
       "1669     0  Unprovoked                 usa      Swimming  NaN     NaN   NaN   \n",
       "1670     0  Unprovoked              panama           NaN  NaN     NaN   NaN   \n",
       "1671     0  Unprovoked  ceylon (sri lanka)      Swimming   15     NaN   NaN   \n",
       "\n",
       "     fatal gender  \n",
       "1667     Y      M  \n",
       "1668     Y      M  \n",
       "1669     Y      M  \n",
       "1670     Y      M  \n",
       "1671     Y      M  "
      ]
     },
     "execution_count": 37,
     "metadata": {},
     "output_type": "execute_result"
    }
   ],
   "source": [
    "data.tail()"
   ]
  },
  {
   "cell_type": "code",
   "execution_count": 39,
   "id": "710b8ddd-ecd6-46aa-8db1-ab922d2a6d78",
   "metadata": {},
   "outputs": [
    {
     "data": {
      "text/html": [
       "<div>\n",
       "<style scoped>\n",
       "    .dataframe tbody tr th:only-of-type {\n",
       "        vertical-align: middle;\n",
       "    }\n",
       "\n",
       "    .dataframe tbody tr th {\n",
       "        vertical-align: top;\n",
       "    }\n",
       "\n",
       "    .dataframe thead th {\n",
       "        text-align: right;\n",
       "    }\n",
       "</style>\n",
       "<table border=\"1\" class=\"dataframe\">\n",
       "  <thead>\n",
       "    <tr style=\"text-align: right;\">\n",
       "      <th></th>\n",
       "      <th>year</th>\n",
       "      <th>type</th>\n",
       "      <th>country</th>\n",
       "      <th>activity</th>\n",
       "      <th>age</th>\n",
       "      <th>species</th>\n",
       "      <th>month</th>\n",
       "      <th>fatal</th>\n",
       "      <th>gender</th>\n",
       "    </tr>\n",
       "  </thead>\n",
       "  <tbody>\n",
       "    <tr>\n",
       "      <th>0</th>\n",
       "      <td>2018</td>\n",
       "      <td>Boating</td>\n",
       "      <td>usa</td>\n",
       "      <td>Paddling</td>\n",
       "      <td>57</td>\n",
       "      <td>White shark</td>\n",
       "      <td>Jun</td>\n",
       "      <td>N</td>\n",
       "      <td>F</td>\n",
       "    </tr>\n",
       "  </tbody>\n",
       "</table>\n",
       "</div>"
      ],
      "text/plain": [
       "   year     type country  activity age      species month fatal gender\n",
       "0  2018  Boating     usa  Paddling  57  White shark   Jun     N      F"
      ]
     },
     "execution_count": 39,
     "metadata": {},
     "output_type": "execute_result"
    }
   ],
   "source": [
    "data.head(1)"
   ]
  },
  {
   "cell_type": "code",
   "execution_count": 41,
   "id": "5950e4a0-4e66-4213-9968-1d4b4ffd083a",
   "metadata": {},
   "outputs": [
    {
     "data": {
      "text/html": [
       "<div>\n",
       "<style scoped>\n",
       "    .dataframe tbody tr th:only-of-type {\n",
       "        vertical-align: middle;\n",
       "    }\n",
       "\n",
       "    .dataframe tbody tr th {\n",
       "        vertical-align: top;\n",
       "    }\n",
       "\n",
       "    .dataframe thead th {\n",
       "        text-align: right;\n",
       "    }\n",
       "</style>\n",
       "<table border=\"1\" class=\"dataframe\">\n",
       "  <thead>\n",
       "    <tr style=\"text-align: right;\">\n",
       "      <th></th>\n",
       "      <th>year</th>\n",
       "      <th>type</th>\n",
       "      <th>country</th>\n",
       "      <th>activity</th>\n",
       "      <th>age</th>\n",
       "      <th>species</th>\n",
       "      <th>month</th>\n",
       "      <th>fatal</th>\n",
       "      <th>gender</th>\n",
       "    </tr>\n",
       "  </thead>\n",
       "  <tbody>\n",
       "    <tr>\n",
       "      <th>1671</th>\n",
       "      <td>0</td>\n",
       "      <td>Unprovoked</td>\n",
       "      <td>ceylon (sri lanka)</td>\n",
       "      <td>Swimming</td>\n",
       "      <td>15</td>\n",
       "      <td>NaN</td>\n",
       "      <td>NaN</td>\n",
       "      <td>Y</td>\n",
       "      <td>M</td>\n",
       "    </tr>\n",
       "  </tbody>\n",
       "</table>\n",
       "</div>"
      ],
      "text/plain": [
       "      year        type             country  activity age species month fatal  \\\n",
       "1671     0  Unprovoked  ceylon (sri lanka)  Swimming  15     NaN   NaN     Y   \n",
       "\n",
       "     gender  \n",
       "1671      M  "
      ]
     },
     "execution_count": 41,
     "metadata": {},
     "output_type": "execute_result"
    }
   ],
   "source": [
    "data.tail(1)"
   ]
  },
  {
   "cell_type": "code",
   "execution_count": 43,
   "id": "3ccb1979-4442-41e0-b45d-8b04ba350655",
   "metadata": {},
   "outputs": [
    {
     "data": {
      "text/plain": [
       "Index(['year', 'type', 'country', 'activity', 'age', 'species', 'month',\n",
       "       'fatal', 'gender'],\n",
       "      dtype='object')"
      ]
     },
     "execution_count": 43,
     "metadata": {},
     "output_type": "execute_result"
    }
   ],
   "source": [
    "data.columns"
   ]
  },
  {
   "cell_type": "code",
   "execution_count": 45,
   "id": "03b976b3-8e80-47f1-a540-0c39fdc70539",
   "metadata": {},
   "outputs": [
    {
     "data": {
      "text/plain": [
       "year         int64\n",
       "type        object\n",
       "country     object\n",
       "activity    object\n",
       "age         object\n",
       "species     object\n",
       "month       object\n",
       "fatal       object\n",
       "gender      object\n",
       "dtype: object"
      ]
     },
     "execution_count": 45,
     "metadata": {},
     "output_type": "execute_result"
    }
   ],
   "source": [
    "data.dtypes"
   ]
  },
  {
   "cell_type": "code",
   "execution_count": 47,
   "id": "145c667c-673a-4748-823f-c5faac6d3b10",
   "metadata": {},
   "outputs": [
    {
     "data": {
      "text/plain": [
       "(1669, 9)"
      ]
     },
     "execution_count": 47,
     "metadata": {},
     "output_type": "execute_result"
    }
   ],
   "source": [
    "data.shape"
   ]
  },
  {
   "cell_type": "code",
   "execution_count": 49,
   "id": "b7121439-0009-4ab1-9d97-dd7062e5dc8d",
   "metadata": {},
   "outputs": [
    {
     "data": {
      "text/plain": [
       "15021"
      ]
     },
     "execution_count": 49,
     "metadata": {},
     "output_type": "execute_result"
    }
   ],
   "source": [
    "data.size"
   ]
  },
  {
   "cell_type": "code",
   "execution_count": 51,
   "id": "3a8da57e-207c-4eb6-b3fb-4027083e4022",
   "metadata": {},
   "outputs": [],
   "source": [
    "data_copy = data.copy()"
   ]
  },
  {
   "cell_type": "code",
   "execution_count": 53,
   "id": "54d1d9f2-4393-4435-bdae-8b3213a68e99",
   "metadata": {},
   "outputs": [
    {
     "name": "stdout",
     "output_type": "stream",
     "text": [
      "<class 'pandas.core.frame.DataFrame'>\n",
      "Index: 1669 entries, 0 to 1671\n",
      "Data columns (total 9 columns):\n",
      " #   Column    Non-Null Count  Dtype \n",
      "---  ------    --------------  ----- \n",
      " 0   year      1669 non-null   int64 \n",
      " 1   type      1669 non-null   object\n",
      " 2   country   1659 non-null   object\n",
      " 3   activity  1638 non-null   object\n",
      " 4   age       1517 non-null   object\n",
      " 5   species   1544 non-null   object\n",
      " 6   month     1517 non-null   object\n",
      " 7   fatal     1570 non-null   object\n",
      " 8   gender    1655 non-null   object\n",
      "dtypes: int64(1), object(8)\n",
      "memory usage: 130.4+ KB\n"
     ]
    }
   ],
   "source": [
    "data_copy.info()"
   ]
  },
  {
   "cell_type": "code",
   "execution_count": 55,
   "id": "46218391-b64d-4ffa-a3ed-325042f835b8",
   "metadata": {},
   "outputs": [],
   "source": [
    "data_duplicados = data_copy.duplicated()"
   ]
  },
  {
   "cell_type": "code",
   "execution_count": 57,
   "id": "6de2b882-fe1f-41ae-9407-2984fe58deec",
   "metadata": {},
   "outputs": [
    {
     "name": "stdout",
     "output_type": "stream",
     "text": [
      "0       False\n",
      "1       False\n",
      "2       False\n",
      "3       False\n",
      "4       False\n",
      "        ...  \n",
      "1667    False\n",
      "1668    False\n",
      "1669    False\n",
      "1670    False\n",
      "1671    False\n",
      "Length: 1669, dtype: bool\n"
     ]
    }
   ],
   "source": [
    "print(data_duplicados)"
   ]
  },
  {
   "cell_type": "code",
   "execution_count": 67,
   "id": "4c40615d-9993-420f-814e-8c4105bf9180",
   "metadata": {},
   "outputs": [],
   "source": [
    "data_copy['month'] = data_copy['month'].fillna('Unknow')"
   ]
  },
  {
   "cell_type": "code",
   "execution_count": 69,
   "id": "e2a54cf0-6561-4127-8b34-1d456d7818cf",
   "metadata": {},
   "outputs": [],
   "source": [
    "data_copy['species'] = data_copy['species'].fillna('Unknow')"
   ]
  },
  {
   "cell_type": "code",
   "execution_count": 71,
   "id": "31a10ca9-5b58-482b-9057-54b01f356d15",
   "metadata": {},
   "outputs": [
    {
     "name": "stdout",
     "output_type": "stream",
     "text": [
      "<class 'pandas.core.frame.DataFrame'>\n",
      "Index: 1669 entries, 0 to 1671\n",
      "Data columns (total 9 columns):\n",
      " #   Column    Non-Null Count  Dtype \n",
      "---  ------    --------------  ----- \n",
      " 0   year      1669 non-null   int64 \n",
      " 1   type      1669 non-null   object\n",
      " 2   country   1659 non-null   object\n",
      " 3   activity  1638 non-null   object\n",
      " 4   age       1517 non-null   object\n",
      " 5   species   1669 non-null   object\n",
      " 6   month     1669 non-null   object\n",
      " 7   fatal     1570 non-null   object\n",
      " 8   gender    1655 non-null   object\n",
      "dtypes: int64(1), object(8)\n",
      "memory usage: 130.4+ KB\n"
     ]
    }
   ],
   "source": [
    "data_copy.info()"
   ]
  },
  {
   "cell_type": "code",
   "execution_count": null,
   "id": "8e7923ee-db2e-4342-910f-12dbb0590e51",
   "metadata": {},
   "outputs": [],
   "source": []
  }
 ],
 "metadata": {
  "kernelspec": {
   "display_name": "Python [conda env:base] *",
   "language": "python",
   "name": "conda-base-py"
  },
  "language_info": {
   "codemirror_mode": {
    "name": "ipython",
    "version": 3
   },
   "file_extension": ".py",
   "mimetype": "text/x-python",
   "name": "python",
   "nbconvert_exporter": "python",
   "pygments_lexer": "ipython3",
   "version": "3.12.7"
  }
 },
 "nbformat": 4,
 "nbformat_minor": 5
}
